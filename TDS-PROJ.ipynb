{
 "cells": [
  {
   "cell_type": "code",
   "execution_count": 52,
   "id": "17871c8c-d5b7-4881-8fb2-c3f084deec73",
   "metadata": {},
   "outputs": [],
   "source": [
    "import pandas as pd\n",
    "import numpy as np\n",
    "import matplotlib.pyplot as plt"
   ]
  },
  {
   "cell_type": "markdown",
   "id": "7108a27f-97e8-4871-ae8d-c4c53a47dfe9",
   "metadata": {},
   "source": [
    "#### Q1.  Who are the top 5 users in Hyderabad with the highest number of followers\n"
   ]
  },
  {
   "cell_type": "code",
   "execution_count": 58,
   "id": "4259def7-3934-411b-b441-64d7d24bd92c",
   "metadata": {
    "scrolled": true
   },
   "outputs": [
    {
     "data": {
      "text/html": [
       "<div>\n",
       "<style scoped>\n",
       "    .dataframe tbody tr th:only-of-type {\n",
       "        vertical-align: middle;\n",
       "    }\n",
       "\n",
       "    .dataframe tbody tr th {\n",
       "        vertical-align: top;\n",
       "    }\n",
       "\n",
       "    .dataframe thead th {\n",
       "        text-align: right;\n",
       "    }\n",
       "</style>\n",
       "<table border=\"1\" class=\"dataframe\">\n",
       "  <thead>\n",
       "    <tr style=\"text-align: right;\">\n",
       "      <th></th>\n",
       "      <th>login</th>\n",
       "      <th>name</th>\n",
       "      <th>company</th>\n",
       "      <th>location</th>\n",
       "      <th>email</th>\n",
       "      <th>hireable</th>\n",
       "      <th>bio</th>\n",
       "      <th>public_repos</th>\n",
       "      <th>followers</th>\n",
       "      <th>following</th>\n",
       "      <th>created_at</th>\n",
       "    </tr>\n",
       "  </thead>\n",
       "  <tbody>\n",
       "    <tr>\n",
       "      <th>0</th>\n",
       "      <td>iam-veeramalla</td>\n",
       "      <td>Abhishek Veeramalla</td>\n",
       "      <td>RED HAT</td>\n",
       "      <td>Hyderabad, India</td>\n",
       "      <td>NaN</td>\n",
       "      <td>False</td>\n",
       "      <td>Keep learning, sharing and growing || Principa...</td>\n",
       "      <td>45</td>\n",
       "      <td>16208</td>\n",
       "      <td>1</td>\n",
       "      <td>2018-09-19T05:58:52Z</td>\n",
       "    </tr>\n",
       "    <tr>\n",
       "      <th>1</th>\n",
       "      <td>in28minutes</td>\n",
       "      <td>NaN</td>\n",
       "      <td>IN28MINUTES</td>\n",
       "      <td>Hyderabad, India</td>\n",
       "      <td>in28minutes@gmail.com</td>\n",
       "      <td>True</td>\n",
       "      <td>Helping 1 Million Learners learn Programming, ...</td>\n",
       "      <td>102</td>\n",
       "      <td>14368</td>\n",
       "      <td>0</td>\n",
       "      <td>2015-09-05T14:09:58Z</td>\n",
       "    </tr>\n",
       "    <tr>\n",
       "      <th>2</th>\n",
       "      <td>stacksimplify</td>\n",
       "      <td>STACKSIMPLIFY</td>\n",
       "      <td>STACKSIMPLIFY</td>\n",
       "      <td>Hyderabad</td>\n",
       "      <td>stacksimplify@gmail.com</td>\n",
       "      <td>False</td>\n",
       "      <td>Best Selling Instructor on Udemy - 2,10,000 St...</td>\n",
       "      <td>47</td>\n",
       "      <td>3233</td>\n",
       "      <td>0</td>\n",
       "      <td>2019-03-07T11:25:23Z</td>\n",
       "    </tr>\n",
       "    <tr>\n",
       "      <th>3</th>\n",
       "      <td>thenaveensaggam</td>\n",
       "      <td>NAVEEN SAGGAM</td>\n",
       "      <td>HTTPS://WWW.UIBRAINS.COM</td>\n",
       "      <td>Hyderabad</td>\n",
       "      <td>thenaveensaggam@gmail.com</td>\n",
       "      <td>False</td>\n",
       "      <td>Founder: UiBrains Technologies\\r\\nEnthusiastic...</td>\n",
       "      <td>43</td>\n",
       "      <td>2164</td>\n",
       "      <td>1</td>\n",
       "      <td>2017-02-18T18:44:26Z</td>\n",
       "    </tr>\n",
       "    <tr>\n",
       "      <th>4</th>\n",
       "      <td>MadhavBahl</td>\n",
       "      <td>MADHAV BAHL</td>\n",
       "      <td>MICROSOFT</td>\n",
       "      <td>Hyderabad, India</td>\n",
       "      <td>madhavbahl10@gmail.com</td>\n",
       "      <td>True</td>\n",
       "      <td>The Lean Programmer | Software Engineer @Micro...</td>\n",
       "      <td>128</td>\n",
       "      <td>1589</td>\n",
       "      <td>1</td>\n",
       "      <td>2017-03-04T06:16:43Z</td>\n",
       "    </tr>\n",
       "  </tbody>\n",
       "</table>\n",
       "</div>"
      ],
      "text/plain": [
       "             login                 name                   company  \\\n",
       "0   iam-veeramalla  Abhishek Veeramalla                   RED HAT   \n",
       "1      in28minutes                  NaN               IN28MINUTES   \n",
       "2    stacksimplify        STACKSIMPLIFY             STACKSIMPLIFY   \n",
       "3  thenaveensaggam        NAVEEN SAGGAM  HTTPS://WWW.UIBRAINS.COM   \n",
       "4       MadhavBahl          MADHAV BAHL                 MICROSOFT   \n",
       "\n",
       "           location                      email  hireable  \\\n",
       "0  Hyderabad, India                        NaN     False   \n",
       "1  Hyderabad, India      in28minutes@gmail.com      True   \n",
       "2         Hyderabad    stacksimplify@gmail.com     False   \n",
       "3         Hyderabad  thenaveensaggam@gmail.com     False   \n",
       "4  Hyderabad, India     madhavbahl10@gmail.com      True   \n",
       "\n",
       "                                                 bio  public_repos  followers  \\\n",
       "0  Keep learning, sharing and growing || Principa...            45      16208   \n",
       "1  Helping 1 Million Learners learn Programming, ...           102      14368   \n",
       "2  Best Selling Instructor on Udemy - 2,10,000 St...            47       3233   \n",
       "3  Founder: UiBrains Technologies\\r\\nEnthusiastic...            43       2164   \n",
       "4  The Lean Programmer | Software Engineer @Micro...           128       1589   \n",
       "\n",
       "   following            created_at  \n",
       "0          1  2018-09-19T05:58:52Z  \n",
       "1          0  2015-09-05T14:09:58Z  \n",
       "2          0  2019-03-07T11:25:23Z  \n",
       "3          1  2017-02-18T18:44:26Z  \n",
       "4          1  2017-03-04T06:16:43Z  "
      ]
     },
     "execution_count": 58,
     "metadata": {},
     "output_type": "execute_result"
    }
   ],
   "source": [
    "users = pd.read_csv('users.csv')\n",
    "users.head()"
   ]
  },
  {
   "cell_type": "code",
   "execution_count": 82,
   "id": "f37b7348-3978-4355-948f-8b87845756c0",
   "metadata": {},
   "outputs": [],
   "source": [
    "users['hireable'] = users['hireable'].fillna(False).astype(bool)"
   ]
  },
  {
   "cell_type": "markdown",
   "id": "94f952f4",
   "metadata": {},
   "source": []
  },
  {
   "cell_type": "code",
   "execution_count": 83,
   "id": "a14993f9-48d3-4956-9cca-d4349c30f649",
   "metadata": {},
   "outputs": [
    {
     "name": "stdout",
     "output_type": "stream",
     "text": [
      "iam-veeramalla,in28minutes,stacksimplify,thenaveensaggam,MadhavBahl\n"
     ]
    }
   ],
   "source": [
    "top5 = users.sort_values(by='followers', ascending=False).head()\n",
    "print(','.join(top5['login'].tolist()))"
   ]
  },
  {
   "cell_type": "markdown",
   "id": "6cc86ddb-88c3-453c-bf56-29614358b62e",
   "metadata": {},
   "source": [
    "#### Q2. Who are the 5 earliest registered GitHub users in Hyderabad "
   ]
  },
  {
   "cell_type": "code",
   "execution_count": 84,
   "id": "afe79990-ccd3-4c8d-b184-45de1f19097c",
   "metadata": {},
   "outputs": [],
   "source": [
    "users['created_at'] = pd.to_datetime(users['created_at'])"
   ]
  },
  {
   "cell_type": "code",
   "execution_count": 85,
   "id": "f9645405-1745-4f06-9ba8-681b5c1e51b0",
   "metadata": {},
   "outputs": [
    {
     "name": "stdout",
     "output_type": "stream",
     "text": [
      "shabda,sitaramc,bagwanpankaj,srikanthlogic,kulbirsaini\n"
     ]
    }
   ],
   "source": [
    "top_earliest = users.sort_values(by='created_at').head()\n",
    "print(','.join(top_earliest['login'].tolist()))"
   ]
  },
  {
   "cell_type": "markdown",
   "id": "1675cbcf-6a8b-4af8-b24a-1372f68efd6b",
   "metadata": {},
   "source": [
    "#### Q3. What are the 3 most popular license among these users\n"
   ]
  },
  {
   "cell_type": "code",
   "execution_count": 86,
   "id": "a139a9a8-9ded-4175-b023-fe871850f3a4",
   "metadata": {},
   "outputs": [
    {
     "data": {
      "text/html": [
       "<div>\n",
       "<style scoped>\n",
       "    .dataframe tbody tr th:only-of-type {\n",
       "        vertical-align: middle;\n",
       "    }\n",
       "\n",
       "    .dataframe tbody tr th {\n",
       "        vertical-align: top;\n",
       "    }\n",
       "\n",
       "    .dataframe thead th {\n",
       "        text-align: right;\n",
       "    }\n",
       "</style>\n",
       "<table border=\"1\" class=\"dataframe\">\n",
       "  <thead>\n",
       "    <tr style=\"text-align: right;\">\n",
       "      <th></th>\n",
       "      <th>login</th>\n",
       "      <th>full_name</th>\n",
       "      <th>created_at</th>\n",
       "      <th>stargazers_count</th>\n",
       "      <th>watchers_count</th>\n",
       "      <th>language</th>\n",
       "      <th>has_projects</th>\n",
       "      <th>has_wiki</th>\n",
       "      <th>license_name</th>\n",
       "    </tr>\n",
       "  </thead>\n",
       "  <tbody>\n",
       "    <tr>\n",
       "      <th>0</th>\n",
       "      <td>iam-veeramalla</td>\n",
       "      <td>iam-veeramalla/observability-zero-to-hero</td>\n",
       "      <td>2023-03-16T14:41:25Z</td>\n",
       "      <td>1494</td>\n",
       "      <td>1494</td>\n",
       "      <td>Go</td>\n",
       "      <td>True</td>\n",
       "      <td>True</td>\n",
       "      <td>NaN</td>\n",
       "    </tr>\n",
       "    <tr>\n",
       "      <th>1</th>\n",
       "      <td>iam-veeramalla</td>\n",
       "      <td>iam-veeramalla/community-operators-prod</td>\n",
       "      <td>2023-08-16T17:04:56Z</td>\n",
       "      <td>106</td>\n",
       "      <td>106</td>\n",
       "      <td>Dockerfile</td>\n",
       "      <td>True</td>\n",
       "      <td>False</td>\n",
       "      <td>apache-2.0</td>\n",
       "    </tr>\n",
       "    <tr>\n",
       "      <th>2</th>\n",
       "      <td>iam-veeramalla</td>\n",
       "      <td>iam-veeramalla/community-operators</td>\n",
       "      <td>2023-08-11T18:48:35Z</td>\n",
       "      <td>101</td>\n",
       "      <td>101</td>\n",
       "      <td>Dockerfile</td>\n",
       "      <td>True</td>\n",
       "      <td>False</td>\n",
       "      <td>apache-2.0</td>\n",
       "    </tr>\n",
       "    <tr>\n",
       "      <th>3</th>\n",
       "      <td>iam-veeramalla</td>\n",
       "      <td>iam-veeramalla/MERN-docker-compose</td>\n",
       "      <td>2024-08-31T17:17:07Z</td>\n",
       "      <td>82</td>\n",
       "      <td>82</td>\n",
       "      <td>JavaScript</td>\n",
       "      <td>True</td>\n",
       "      <td>True</td>\n",
       "      <td>NaN</td>\n",
       "    </tr>\n",
       "    <tr>\n",
       "      <th>4</th>\n",
       "      <td>iam-veeramalla</td>\n",
       "      <td>iam-veeramalla/argocd-operator</td>\n",
       "      <td>2023-07-03T09:46:13Z</td>\n",
       "      <td>238</td>\n",
       "      <td>238</td>\n",
       "      <td>NaN</td>\n",
       "      <td>True</td>\n",
       "      <td>False</td>\n",
       "      <td>apache-2.0</td>\n",
       "    </tr>\n",
       "  </tbody>\n",
       "</table>\n",
       "</div>"
      ],
      "text/plain": [
       "            login                                  full_name  \\\n",
       "0  iam-veeramalla  iam-veeramalla/observability-zero-to-hero   \n",
       "1  iam-veeramalla    iam-veeramalla/community-operators-prod   \n",
       "2  iam-veeramalla         iam-veeramalla/community-operators   \n",
       "3  iam-veeramalla         iam-veeramalla/MERN-docker-compose   \n",
       "4  iam-veeramalla             iam-veeramalla/argocd-operator   \n",
       "\n",
       "             created_at  stargazers_count  watchers_count    language  \\\n",
       "0  2023-03-16T14:41:25Z              1494            1494          Go   \n",
       "1  2023-08-16T17:04:56Z               106             106  Dockerfile   \n",
       "2  2023-08-11T18:48:35Z               101             101  Dockerfile   \n",
       "3  2024-08-31T17:17:07Z                82              82  JavaScript   \n",
       "4  2023-07-03T09:46:13Z               238             238         NaN   \n",
       "\n",
       "   has_projects  has_wiki license_name  \n",
       "0          True      True          NaN  \n",
       "1          True     False   apache-2.0  \n",
       "2          True     False   apache-2.0  \n",
       "3          True      True          NaN  \n",
       "4          True     False   apache-2.0  "
      ]
     },
     "execution_count": 86,
     "metadata": {},
     "output_type": "execute_result"
    }
   ],
   "source": [
    "repos = pd.read_csv('repositories.csv')\n",
    "repos.head()"
   ]
  },
  {
   "cell_type": "code",
   "execution_count": 87,
   "id": "f5b0a4ce-ae41-4066-a59a-58e81f27ad47",
   "metadata": {},
   "outputs": [
    {
     "data": {
      "text/plain": [
       "mit           6146\n",
       "apache-2.0    2037\n",
       "other         1432\n",
       "Name: license_name, dtype: int64"
      ]
     },
     "execution_count": 87,
     "metadata": {},
     "output_type": "execute_result"
    }
   ],
   "source": [
    "repos['license_name'].value_counts().head(3)"
   ]
  },
  {
   "cell_type": "markdown",
   "id": "662f1894-2c60-429c-b06d-cbe36afe6f08",
   "metadata": {},
   "source": [
    "#### Q4. Which company do the majority of these developers work at?"
   ]
  },
  {
   "cell_type": "code",
   "execution_count": 88,
   "id": "93a985b2-4e56-4871-9757-23e6ae5ed0de",
   "metadata": {},
   "outputs": [
    {
     "data": {
      "text/plain": [
       "MICROSOFT    18\n",
       "Name: company, dtype: int64"
      ]
     },
     "execution_count": 88,
     "metadata": {},
     "output_type": "execute_result"
    }
   ],
   "source": [
    "users['company'].value_counts().head(1)"
   ]
  },
  {
   "cell_type": "markdown",
   "id": "3e73104c-f44c-4e59-aecc-cb10a34578a1",
   "metadata": {},
   "source": [
    "#### Q5. Which programming language is most popular among these users?"
   ]
  },
  {
   "cell_type": "code",
   "execution_count": 89,
   "id": "1abcf548-42aa-43fc-837e-86c6db860617",
   "metadata": {},
   "outputs": [
    {
     "data": {
      "text/plain": [
       "JavaScript    5915\n",
       "Name: language, dtype: int64"
      ]
     },
     "execution_count": 89,
     "metadata": {},
     "output_type": "execute_result"
    }
   ],
   "source": [
    "repos['language'].value_counts().head(1)"
   ]
  },
  {
   "cell_type": "markdown",
   "id": "bf7abc13-3226-4c35-b42e-400f06cac01d",
   "metadata": {},
   "source": [
    "#### Q6. Which programming language is the second most popular among users who joined after 2020?"
   ]
  },
  {
   "cell_type": "code",
   "execution_count": 90,
   "id": "d01727ac-d1de-4407-a65b-db7a88223d81",
   "metadata": {},
   "outputs": [
    {
     "data": {
      "text/html": [
       "<div>\n",
       "<style scoped>\n",
       "    .dataframe tbody tr th:only-of-type {\n",
       "        vertical-align: middle;\n",
       "    }\n",
       "\n",
       "    .dataframe tbody tr th {\n",
       "        vertical-align: top;\n",
       "    }\n",
       "\n",
       "    .dataframe thead th {\n",
       "        text-align: right;\n",
       "    }\n",
       "</style>\n",
       "<table border=\"1\" class=\"dataframe\">\n",
       "  <thead>\n",
       "    <tr style=\"text-align: right;\">\n",
       "      <th></th>\n",
       "      <th>login</th>\n",
       "      <th>name</th>\n",
       "      <th>company</th>\n",
       "      <th>location</th>\n",
       "      <th>email</th>\n",
       "      <th>hireable</th>\n",
       "      <th>bio</th>\n",
       "      <th>public_repos</th>\n",
       "      <th>followers</th>\n",
       "      <th>following</th>\n",
       "      <th>created_at</th>\n",
       "      <th>leader_strength</th>\n",
       "    </tr>\n",
       "  </thead>\n",
       "  <tbody>\n",
       "    <tr>\n",
       "      <th>9</th>\n",
       "      <td>NotHarshhaa</td>\n",
       "      <td>H A R S H H A A</td>\n",
       "      <td>PRODEVOPSGUY TECH COMMUNITY</td>\n",
       "      <td>Hyderabad</td>\n",
       "      <td>NaN</td>\n",
       "      <td>False</td>\n",
       "      <td>𝗗𝗲𝘃𝗲𝗹𝗼𝗽𝗺𝗲𝗻𝘁 𝗣𝗹𝗮𝘁𝗳𝗼𝗿𝗺 𝗮𝗻𝗱 𝗮𝘂𝘁𝗼𝗺𝗮𝘁𝗶𝗼𝗻 𝗲𝗻𝘁𝗵𝘂𝘀𝗶𝗮𝘀𝘁...</td>\n",
       "      <td>34</td>\n",
       "      <td>845</td>\n",
       "      <td>0</td>\n",
       "      <td>2022-09-06 11:44:29+00:00</td>\n",
       "      <td>845.000000</td>\n",
       "    </tr>\n",
       "    <tr>\n",
       "      <th>10</th>\n",
       "      <td>InterviewReady</td>\n",
       "      <td>InterviewReady</td>\n",
       "      <td>NaN</td>\n",
       "      <td>Hyderabad, India</td>\n",
       "      <td>contact@interviewready.io</td>\n",
       "      <td>False</td>\n",
       "      <td>We make software interviews easy.</td>\n",
       "      <td>7</td>\n",
       "      <td>793</td>\n",
       "      <td>0</td>\n",
       "      <td>2021-05-11 08:50:39+00:00</td>\n",
       "      <td>793.000000</td>\n",
       "    </tr>\n",
       "    <tr>\n",
       "      <th>13</th>\n",
       "      <td>SajeedAI</td>\n",
       "      <td>Sajeed Saif</td>\n",
       "      <td>NaN</td>\n",
       "      <td>Hyderabad</td>\n",
       "      <td>NaN</td>\n",
       "      <td>False</td>\n",
       "      <td>Java Full stack Developer\\r\\n@Java FSD \\r\\n@Py...</td>\n",
       "      <td>4</td>\n",
       "      <td>763</td>\n",
       "      <td>2</td>\n",
       "      <td>2021-06-17 08:57:43+00:00</td>\n",
       "      <td>254.333333</td>\n",
       "    </tr>\n",
       "    <tr>\n",
       "      <th>20</th>\n",
       "      <td>Shra1V32</td>\n",
       "      <td>Shravan Vadeghar</td>\n",
       "      <td>NaN</td>\n",
       "      <td>Hyderabad, India</td>\n",
       "      <td>NaN</td>\n",
       "      <td>True</td>\n",
       "      <td>Student | Ex-DRDO Intern | Android Open Source...</td>\n",
       "      <td>58</td>\n",
       "      <td>511</td>\n",
       "      <td>75</td>\n",
       "      <td>2021-08-22 14:47:42+00:00</td>\n",
       "      <td>6.723684</td>\n",
       "    </tr>\n",
       "    <tr>\n",
       "      <th>21</th>\n",
       "      <td>sriramalavalapati3</td>\n",
       "      <td>sriram</td>\n",
       "      <td>NaN</td>\n",
       "      <td>hyderabad</td>\n",
       "      <td>NaN</td>\n",
       "      <td>True</td>\n",
       "      <td>Full-stack-web developer, \\r\\nspecialized bac...</td>\n",
       "      <td>43</td>\n",
       "      <td>492</td>\n",
       "      <td>285</td>\n",
       "      <td>2022-09-03 09:34:01+00:00</td>\n",
       "      <td>1.720280</td>\n",
       "    </tr>\n",
       "  </tbody>\n",
       "</table>\n",
       "</div>"
      ],
      "text/plain": [
       "                 login              name                      company  \\\n",
       "9          NotHarshhaa   H A R S H H A A  PRODEVOPSGUY TECH COMMUNITY   \n",
       "10      InterviewReady    InterviewReady                          NaN   \n",
       "13            SajeedAI       Sajeed Saif                          NaN   \n",
       "20            Shra1V32  Shravan Vadeghar                          NaN   \n",
       "21  sriramalavalapati3            sriram                          NaN   \n",
       "\n",
       "            location                      email  hireable  \\\n",
       "9          Hyderabad                        NaN     False   \n",
       "10  Hyderabad, India  contact@interviewready.io     False   \n",
       "13         Hyderabad                        NaN     False   \n",
       "20  Hyderabad, India                        NaN      True   \n",
       "21         hyderabad                        NaN      True   \n",
       "\n",
       "                                                  bio  public_repos  \\\n",
       "9   𝗗𝗲𝘃𝗲𝗹𝗼𝗽𝗺𝗲𝗻𝘁 𝗣𝗹𝗮𝘁𝗳𝗼𝗿𝗺 𝗮𝗻𝗱 𝗮𝘂𝘁𝗼𝗺𝗮𝘁𝗶𝗼𝗻 𝗲𝗻𝘁𝗵𝘂𝘀𝗶𝗮𝘀𝘁...            34   \n",
       "10                  We make software interviews easy.             7   \n",
       "13  Java Full stack Developer\\r\\n@Java FSD \\r\\n@Py...             4   \n",
       "20  Student | Ex-DRDO Intern | Android Open Source...            58   \n",
       "21   Full-stack-web developer, \\r\\nspecialized bac...            43   \n",
       "\n",
       "    followers  following                created_at  leader_strength  \n",
       "9         845          0 2022-09-06 11:44:29+00:00       845.000000  \n",
       "10        793          0 2021-05-11 08:50:39+00:00       793.000000  \n",
       "13        763          2 2021-06-17 08:57:43+00:00       254.333333  \n",
       "20        511         75 2021-08-22 14:47:42+00:00         6.723684  \n",
       "21        492        285 2022-09-03 09:34:01+00:00         1.720280  "
      ]
     },
     "execution_count": 90,
     "metadata": {},
     "output_type": "execute_result"
    }
   ],
   "source": [
    "users_after_2020 = users[users['created_at'] > '2020-01-01']\n",
    "users_after_2020.head()"
   ]
  },
  {
   "cell_type": "code",
   "execution_count": 91,
   "id": "aee537b6-38c7-4aa5-baae-c398fe385053",
   "metadata": {},
   "outputs": [
    {
     "data": {
      "text/plain": [
       "JavaScript          1664\n",
       "HTML                 796\n",
       "Python               684\n",
       "Jupyter Notebook     576\n",
       "Java                 366\n",
       "Name: language, dtype: int64"
      ]
     },
     "execution_count": 91,
     "metadata": {},
     "output_type": "execute_result"
    }
   ],
   "source": [
    "repos_2020 = repos[repos['login'].isin(users_after_2020['login'].tolist())]\n",
    "repos_2020['language'].value_counts().head()"
   ]
  },
  {
   "cell_type": "markdown",
   "id": "d0b07a2f-bcae-496b-ab7e-188a2f0aa7be",
   "metadata": {},
   "source": [
    "#### Q7. Which language has the highest average number of stars per repository? "
   ]
  },
  {
   "cell_type": "code",
   "execution_count": 92,
   "id": "8c8a119a-e562-4855-8330-23b6dccdfea9",
   "metadata": {},
   "outputs": [
    {
     "name": "stdout",
     "output_type": "stream",
     "text": [
      "Perl 200.06976744186048\n"
     ]
    }
   ],
   "source": [
    "avg_stars = repos.groupby('language')['stargazers_count'].mean()\n",
    "top_lang = avg_stars.idxmax()\n",
    "top_stars = avg_stars.max()\n",
    "print(top_lang, top_stars)"
   ]
  },
  {
   "cell_type": "markdown",
   "id": "e430846a-1518-409f-8717-cb2f84570460",
   "metadata": {},
   "source": [
    "#### Q8. Let's define leader_strength as followers / (1 + following). Who are the top 5 in terms of leader_strength? Listed their login in order, comma-separated."
   ]
  },
  {
   "cell_type": "code",
   "execution_count": 93,
   "id": "aa51b046-149f-4ef5-89ff-62586043992c",
   "metadata": {},
   "outputs": [
    {
     "name": "stdout",
     "output_type": "stream",
     "text": [
      "in28minutes,iam-veeramalla,stacksimplify,ashokitschool,thenaveensaggam\n"
     ]
    }
   ],
   "source": [
    "users['leader_strength'] = users['followers'] / (1 + users['following'])\n",
    "top5_lead = users.sort_values(by='leader_strength', ascending=False).head()\n",
    "print(','.join(top5_lead['login'].tolist()))"
   ]
  },
  {
   "cell_type": "markdown",
   "id": "8dd87be3-3a61-4fe1-ab5c-1ef836c545d3",
   "metadata": {},
   "source": [
    "#### Q9. What is the correlation between the number of followers and the number of public repositories among users in Hyderabad"
   ]
  },
  {
   "cell_type": "code",
   "execution_count": 72,
   "id": "91e8b274-bde5-41ac-91d2-d965334f2d35",
   "metadata": {},
   "outputs": [
    {
     "data": {
      "text/plain": [
       "0.006770039370652384"
      ]
     },
     "execution_count": 72,
     "metadata": {},
     "output_type": "execute_result"
    }
   ],
   "source": [
    "correlation = users['followers'].corr(users['public_repos'])\n",
    "correlation"
   ]
  },
  {
   "cell_type": "markdown",
   "id": "23dac608-8b88-48d8-aeae-1e11b2cb2b87",
   "metadata": {},
   "source": [
    "#### Q10. Does creating more repos help users get more followers? Using regression, estimate how many additional followers a user gets per additional public repository."
   ]
  },
  {
   "cell_type": "code",
   "execution_count": 94,
   "id": "9eede565-f813-4807-989b-051201f7f411",
   "metadata": {},
   "outputs": [
    {
     "name": "stdout",
     "output_type": "stream",
     "text": [
      "0.075\n"
     ]
    }
   ],
   "source": [
    "import csv\n",
    "followers = []\n",
    "public_repos = []\n",
    "with open('users.csv', 'r', encoding='utf-8') as file:\n",
    "    reader = csv.DictReader(file)\n",
    "    for row in reader:\n",
    "        followers_count = int(row['followers'])\n",
    "        public_repos_count = int(row['public_repos'])\n",
    "        followers.append(followers_count)\n",
    "        public_repos.append(public_repos_count)\n",
    "if len(followers) > 1 and len(public_repos) > 1:\n",
    "    slope, intercept = np.polyfit(public_repos, followers, 1)\n",
    "    \n",
    "    print(f\"{slope:.3f}\")\n",
    "else:\n",
    "    print(\"Error\")"
   ]
  },
  {
   "cell_type": "markdown",
   "id": "b1739602-5cef-48d6-a3ef-3ecc1d12f405",
   "metadata": {},
   "source": [
    "#### Q11. Do people typically enable projects and wikis together? What is the correlation between a repo having projects enabled and having wiki enabled?"
   ]
  },
  {
   "cell_type": "code",
   "execution_count": 95,
   "id": "e680160d-cfa3-42ef-be27-55a772b77171",
   "metadata": {},
   "outputs": [
    {
     "name": "stdout",
     "output_type": "stream",
     "text": [
      "0.171\n"
     ]
    }
   ],
   "source": [
    "if repos['has_projects'].dtype == 'object':\n",
    "    repos['has_projects'] = repos['has_projects'].map({'true': True, 'false': False})\n",
    "if repos['has_wiki'].dtype == 'object':\n",
    "    repos['has_wiki'] = repos['has_wiki'].map({'true': True, 'false': False})\n",
    "    \n",
    "correlation = repos['has_projects'].corr(repos['has_wiki'])\n",
    "    \n",
    "print(round(correlation, 3))"
   ]
  },
  {
   "cell_type": "markdown",
   "id": "7d1c5de4-b714-46e2-af6a-ad41e8a42f8f",
   "metadata": {},
   "source": [
    "#### Q12. Do hireable users follow more people than those who are not hireable?"
   ]
  },
  {
   "cell_type": "code",
   "execution_count": 96,
   "id": "cd51bed6-bba7-4407-94a9-ccc5e3968b4d",
   "metadata": {},
   "outputs": [
    {
     "data": {
      "text/plain": [
       "34.35429104477612"
      ]
     },
     "execution_count": 96,
     "metadata": {},
     "output_type": "execute_result"
    }
   ],
   "source": [
    "hireable_avg_following = users[users['hireable'] == True]['following'].mean()\n",
    "non_hireable_avg_following = users[users['hireable'] == False]['following'].mean()\n",
    "difference = hireable_avg_following - non_hireable_avg_following\n",
    "difference"
   ]
  },
  {
   "cell_type": "markdown",
   "id": "1f30dbcf-90f2-4531-b37c-0386828e1f9f",
   "metadata": {},
   "source": [
    "#### Q13. Some developers write long bios. Does that help them get more followers? What's the correlation of the length of their bio (in Unicode characters) with followers? (Ignore people without bios)"
   ]
  },
  {
   "cell_type": "code",
   "execution_count": 97,
   "id": "a324c8b4-9faf-4f4d-9c3d-0813e6bdbfb8",
   "metadata": {},
   "outputs": [
    {
     "data": {
      "text/plain": [
       "1.3402157412658149"
      ]
     },
     "execution_count": 97,
     "metadata": {},
     "output_type": "execute_result"
    }
   ],
   "source": [
    "from sklearn.linear_model import LinearRegression\n",
    "users_with_bio = users[(users['bio'].notna()) & (users['bio'] != '')].copy()\n",
    "users_with_bio.loc[:, 'bio_len'] = users_with_bio['bio'].str.len()\n",
    "\n",
    "X = users_with_bio['bio_len'].values.reshape(-1,1)\n",
    "y = users_with_bio['followers']\n",
    "\n",
    "lr2 = LinearRegression()\n",
    "lr2.fit(X, y)\n",
    "lr2.coef_[0]"
   ]
  },
  {
   "cell_type": "markdown",
   "id": "96cb22e4-4046-40cf-9be5-06f096b0f0c3",
   "metadata": {},
   "source": [
    "#### Q14. Who created the most repositories on weekends (UTC)? List the top 5 users' login in order, comma-separated"
   ]
  },
  {
   "cell_type": "code",
   "execution_count": 98,
   "id": "ab49dafe-2981-4fe1-b603-0bee0e61e04f",
   "metadata": {},
   "outputs": [
    {
     "name": "stdout",
     "output_type": "stream",
     "text": [
      "hemanth22,anjijava16,wahidKhan74,elevenpassin,narasimhavuppala\n"
     ]
    }
   ],
   "source": [
    "import csv\n",
    "from collections import Counter\n",
    "from datetime import datetime\n",
    "\n",
    "weekend_repo_counts = Counter()\n",
    "\n",
    "with open('repositories.csv', 'r', encoding='utf-8') as file:\n",
    "    reader = csv.DictReader(file)\n",
    "    \n",
    "    for row in reader:\n",
    "        created_at = row.get('created_at', '')\n",
    "        if created_at:\n",
    "            created_date = datetime.fromisoformat(created_at[:-1])  \n",
    "            \n",
    "            if created_date.weekday() in [5, 6]:\n",
    "                user_login = row['login']\n",
    "                weekend_repo_counts[user_login] += 1  \n",
    "\n",
    "top_users = weekend_repo_counts.most_common(5)\n",
    "\n",
    "top_logins = [user[0] for user in top_users]\n",
    "\n",
    "print(','.join(top_logins))"
   ]
  },
  {
   "cell_type": "markdown",
   "id": "6d9da60a-2ff0-4421-808e-ab9a74bf02fb",
   "metadata": {},
   "source": [
    "#### Q15. Do people who are hireable share their email addresses more often?"
   ]
  },
  {
   "cell_type": "code",
   "execution_count": 99,
   "id": "b8381831-d1ed-4855-afc2-97ad1c06a1af",
   "metadata": {},
   "outputs": [
    {
     "data": {
      "text/plain": [
       "0.2516169154228856"
      ]
     },
     "execution_count": 99,
     "metadata": {},
     "output_type": "execute_result"
    }
   ],
   "source": [
    "fraction_hierable = users[users['hireable'] == True]['email'].notna().mean()\n",
    "fraction_non_hierable = users[users['hireable'] == False]['email'].notna().mean()\n",
    "diff = fraction_hierable - fraction_non_hierable\n",
    "diff"
   ]
  },
  {
   "cell_type": "markdown",
   "id": "806a227e-1285-4c5f-bb05-867a3fd5101a",
   "metadata": {},
   "source": [
    "#### Q16. Let's assume that the last word in a user's name is their surname (ignore missing names, trim and split by whitespace.) What's the most common surname? (If there's a tie, list them all, comma-separated, alphabetically)"
   ]
  },
  {
   "cell_type": "code",
   "execution_count": 100,
   "id": "01a24dfb-05cc-4528-b118-558b2307639c",
   "metadata": {},
   "outputs": [
    {
     "name": "stdout",
     "output_type": "stream",
     "text": [
      "Kumar\n"
     ]
    }
   ],
   "source": [
    "new_users = users[users['name'].notna()].copy()\n",
    "new_users['surname'] = new_users['name'].str.split().str[-1].str.strip()\n",
    "surname_counts = new_users['surname'].value_counts()\n",
    "max_count = surname_counts.max()\n",
    "common_surnames = surname_counts[surname_counts == max_count].index.tolist()\n",
    "common_surnames.sort()\n",
    "print(','.join(common_surnames))"
   ]
  },
  {
   "cell_type": "code",
   "execution_count": 101,
   "id": "2cc25d8c-a405-46d2-ba14-78bf49fabbc6",
   "metadata": {},
   "outputs": [],
   "source": [
    "# users = users.fillna(\"\").astype(str)\n",
    "# repos = repos.fillna(\"\").astype(str)\n",
    "\n",
    "# repos['has_wiki'] = repos['has_wiki'].astype(str).replace({'True': 'true', 'False': 'false'})\n",
    "# repos['has_projects'] = repos['has_projects'].astype(str).replace({'True': 'true', 'False': 'false'})\n",
    "\n",
    "# # users.to_csv('users1.csv', index=False)\n",
    "# repos.to_csv('repos1.csv', index=False)"
   ]
  },
  {
   "cell_type": "code",
   "execution_count": null,
   "id": "23e927ef",
   "metadata": {},
   "outputs": [],
   "source": []
  },
  {
   "cell_type": "code",
   "execution_count": null,
   "id": "96fc62e2",
   "metadata": {},
   "outputs": [],
   "source": []
  },
  {
   "cell_type": "code",
   "execution_count": null,
   "id": "2d26094e",
   "metadata": {},
   "outputs": [],
   "source": []
  }
 ],
 "metadata": {
  "kernelspec": {
   "display_name": "Python 3 (ipykernel)",
   "language": "python",
   "name": "python3"
  },
  "language_info": {
   "codemirror_mode": {
    "name": "ipython",
    "version": 3
   },
   "file_extension": ".py",
   "mimetype": "text/x-python",
   "name": "python",
   "nbconvert_exporter": "python",
   "pygments_lexer": "ipython3",
   "version": "3.11.3"
  }
 },
 "nbformat": 4,
 "nbformat_minor": 5
}
